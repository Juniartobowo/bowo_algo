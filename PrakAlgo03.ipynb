{
  "nbformat": 4,
  "nbformat_minor": 0,
  "metadata": {
    "colab": {
      "provenance": [],
      "authorship_tag": "ABX9TyNbuRFH2xqHMs+FFhkdM2u1",
      "include_colab_link": true
    },
    "kernelspec": {
      "name": "python3",
      "display_name": "Python 3"
    },
    "language_info": {
      "name": "python"
    }
  },
  "cells": [
    {
      "cell_type": "markdown",
      "metadata": {
        "id": "view-in-github",
        "colab_type": "text"
      },
      "source": [
        "<a href=\"https://colab.research.google.com/github/Juniartobowo/bowo_algo/blob/main/PrakAlgo03.ipynb\" target=\"_parent\"><img src=\"https://colab.research.google.com/assets/colab-badge.svg\" alt=\"Open In Colab\"/></a>"
      ]
    },
    {
      "cell_type": "code",
      "execution_count": 1,
      "metadata": {
        "colab": {
          "base_uri": "https://localhost:8080/"
        },
        "id": "X7uYKZlEsW0f",
        "outputId": "ec29be3d-5374-439d-bb9e-43dad1ba6d18"
      },
      "outputs": [
        {
          "output_type": "stream",
          "name": "stdout",
          "text": [
            "@@@  @@@@ @@@    @@    @@@ @@@@\n",
            "@  @ @  @  @@@   @@   @@@  @  @\n",
            "@@@@ @  @   @@@ @  @ @@@   @  @\n",
            "@  @ @  @    @@@    @@@    @  @\n",
            "@@@  @@@@     @@    @@     @@@@\n",
            "Masukkan angka awal: 1\n",
            "Masukkan angka akhir: 10\n",
            "Urutan antara 1 dan 10 adalah:\n",
            "1 | 10\n",
            "2 | 9\n",
            "3 | 8\n",
            "4 | 7\n",
            "5 | 6\n"
          ]
        }
      ],
      "source": [
        "print('@@@  @@@@ @@@    @@    @@@ @@@@')\n",
        "print('@  @ @  @  @@@   @@   @@@  @  @')\n",
        "print('@@@@ @  @   @@@ @  @ @@@   @  @')\n",
        "print('@  @ @  @    @@@    @@@    @  @')\n",
        "print('@@@  @@@@     @@    @@     @@@@')\n",
        "angka_awal = int(input(\"Masukkan angka awal: \"))\n",
        "angka_akhir = int(input(\"Masukkan angka akhir: \"))\n",
        "\n",
        "print(f\"Urutan antara {angka_awal} dan {angka_akhir} adalah:\")\n",
        "while angka_awal <= angka_akhir:\n",
        "    print(f\"{angka_awal} | {angka_akhir}\")\n",
        "    angka_awal += 1\n",
        "    angka_akhir -= 1"
      ]
    },
    {
      "cell_type": "code",
      "source": [
        "print('@@@  @@@@ @@@    @@    @@@ @@@@')\n",
        "print('@  @ @  @  @@@   @@   @@@  @  @')\n",
        "print('@@@@ @  @   @@@ @  @ @@@   @  @')\n",
        "print('@  @ @  @    @@@    @@@    @  @')\n",
        "print('@@@  @@@@     @@    @@     @@@@')\n",
        "total_harga = float(input(\"Masukkan total harga belanjaan: \"))\n",
        "jumlah_uang = float(input(\"Masukkan jumlah uang yang diberikan: \"))\n",
        "\n",
        "kembalian = jumlah_uang - total_harga\n",
        "\n",
        "lembar_uang = [100000, 50000, 20000, 10000, 5000, 2000, 1000]\n",
        "\n",
        "print(\"\\nKembalian Anda adalah Rp\", kembalian)\n",
        "\n",
        "if kembalian < 0:\n",
        "    print(\"Uang yang diberikan kurang dari total harga belanjaan.\")\n",
        "else:\n",
        "    print(\"Kembalian dalam bentuk lembar uang:\")\n",
        "    for uang in lembar_uang:\n",
        "        jumlah_lembar = int(kembalian / uang)\n",
        "        if jumlah_lembar > 0:\n",
        "            print(f\"{jumlah_lembar} lembar uang Rp{uang}\")\n",
        "            kembalian -= jumlah_lembar * uang\n",
        "\n",
        "koin = [1000, 500, 200, 100, 50]\n",
        "\n",
        "if kembalian >= 50:\n",
        "    print(\"Kembalian dalam bentuk koin:\")\n",
        "    for k in koin:\n",
        "        jumlah_koin = int(kembalian / k)\n",
        "        if jumlah_koin > 0:\n",
        "            print(f\"{jumlah_koin} koin Rp{k}\")\n",
        "            kembalian -= jumlah_koin * k"
      ],
      "metadata": {
        "colab": {
          "base_uri": "https://localhost:8080/"
        },
        "id": "KDMfVxxOwHEf",
        "outputId": "9c147a7d-85eb-4092-9401-d3b851b707d5"
      },
      "execution_count": null,
      "outputs": [
        {
          "output_type": "stream",
          "name": "stdout",
          "text": [
            "@@@  @@@@ @@@    @@    @@@ @@@@\n",
            "@  @ @  @  @@@   @@   @@@  @  @\n",
            "@@@@ @  @   @@@ @  @ @@@   @  @\n",
            "@  @ @  @    @@@    @@@    @  @\n",
            "@@@  @@@@     @@    @@     @@@@\n",
            "Masukkan total harga belanjaan: 85000\n",
            "Masukkan jumlah uang yang diberikan: 100000\n",
            "\n",
            "Kembalian Anda adalah Rp 15000.0\n",
            "Kembalian dalam bentuk lembar uang:\n",
            "1 lembar uang Rp10000\n",
            "1 lembar uang Rp5000\n"
          ]
        }
      ]
    }
  ]
}