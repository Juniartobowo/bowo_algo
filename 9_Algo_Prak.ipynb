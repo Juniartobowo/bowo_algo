{
  "nbformat": 4,
  "nbformat_minor": 0,
  "metadata": {
    "colab": {
      "provenance": [],
      "authorship_tag": "ABX9TyOO2fyWTeJyHUHhFiZW+dlg",
      "include_colab_link": true
    },
    "kernelspec": {
      "name": "python3",
      "display_name": "Python 3"
    },
    "language_info": {
      "name": "python"
    }
  },
  "cells": [
    {
      "cell_type": "markdown",
      "metadata": {
        "id": "view-in-github",
        "colab_type": "text"
      },
      "source": [
        "<a href=\"https://colab.research.google.com/github/Juniartobowo/bowo_algo/blob/main/9_Algo_Prak.ipynb\" target=\"_parent\"><img src=\"https://colab.research.google.com/assets/colab-badge.svg\" alt=\"Open In Colab\"/></a>"
      ]
    },
    {
      "cell_type": "code",
      "source": [
        "print('@@@  @@@@ @@@    @@    @@@ @@@@')\n",
        "print('@  @ @  @  @@@   @@   @@@  @  @')\n",
        "print('@@@@ @  @   @@@ @  @ @@@   @  @')\n",
        "print('@  @ @  @    @@@    @@@    @  @')\n",
        "print('@@@  @@@@     @@    @@     @@@@')\n",
        "print(\"========== ELKOM 1 ==========\")\n",
        "def konversi_list_ke_tuple(input_list):\n",
        "    hasil_tuple = tuple(input_list)\n",
        "    return hasil_tuple\n",
        "\n",
        "list_tuple = [1, 2, 4, 3, 1, 44]\n",
        "\n",
        "hasil_tuple = konversi_list_ke_tuple(list_tuple)\n",
        "\n",
        "print(list_tuple)\n",
        "print(\"hasil reverse ke tuple\")\n",
        "print(hasil_tuple)\n"
      ],
      "metadata": {
        "colab": {
          "base_uri": "https://localhost:8080/"
        },
        "id": "fOyJUTTqqtdD",
        "outputId": "ae6baf64-8ba4-41bb-895b-f40b2aa0c3ba"
      },
      "execution_count": 1,
      "outputs": [
        {
          "output_type": "stream",
          "name": "stdout",
          "text": [
            "@@@  @@@@ @@@    @@    @@@ @@@@\n",
            "@  @ @  @  @@@   @@   @@@  @  @\n",
            "@@@@ @  @   @@@ @  @ @@@   @  @\n",
            "@  @ @  @    @@@    @@@    @  @\n",
            "@@@  @@@@     @@    @@     @@@@\n",
            "========== ELKOM 1 ==========\n",
            "[1, 2, 4, 3, 1, 44]\n",
            "hasil reverse ke tuple\n",
            "(1, 2, 4, 3, 1, 44)\n"
          ]
        }
      ]
    },
    {
      "cell_type": "code",
      "source": [
        "print('@@@  @@@@ @@@    @@    @@@ @@@@')\n",
        "print('@  @ @  @  @@@   @@   @@@  @  @')\n",
        "print('@@@@ @  @   @@@ @  @ @@@   @  @')\n",
        "print('@  @ @  @    @@@    @@@    @  @')\n",
        "print('@@@  @@@@     @@    @@     @@@@')\n",
        "print('tuple 1:')\n",
        "a = ('1021, 1022, 1023', '1025, 1026, 1027', '1029, 1030, 1030')\n",
        "print(a)\n",
        "def ratarata(angka):\n",
        "    rata_rata = [int(x) for x in angka.split(', ')]\n",
        "    return int(sum(rata_rata) / len(rata_rata))\n",
        "\n",
        "averages = [ratarata(group) for group in a]\n",
        "print(\"rata rata dari tuple adalah : \")\n",
        "print(averages)"
      ],
      "metadata": {
        "colab": {
          "base_uri": "https://localhost:8080/"
        },
        "id": "s1VdH0kssU-s",
        "outputId": "0d96e19b-a863-4ef0-aa93-13d135b991dd"
      },
      "execution_count": 2,
      "outputs": [
        {
          "output_type": "stream",
          "name": "stdout",
          "text": [
            "@@@  @@@@ @@@    @@    @@@ @@@@\n",
            "@  @ @  @  @@@   @@   @@@  @  @\n",
            "@@@@ @  @   @@@ @  @ @@@   @  @\n",
            "@  @ @  @    @@@    @@@    @  @\n",
            "@@@  @@@@     @@    @@     @@@@\n",
            "tuple 1:\n",
            "('1021, 1022, 1023', '1025, 1026, 1027', '1029, 1030, 1030')\n",
            "rata rata dari tuple adalah : \n",
            "[1022, 1026, 1029]\n"
          ]
        }
      ]
    },
    {
      "cell_type": "code",
      "source": [
        "print('@@@  @@@@ @@@    @@    @@@ @@@@')\n",
        "print('@  @ @  @  @@@   @@   @@@  @  @')\n",
        "print('@@@@ @  @   @@@ @  @ @@@   @  @')\n",
        "print('@  @ @  @    @@@    @@@    @  @')\n",
        "print('@@@  @@@@     @@    @@     @@@@')\n",
        "print(\"Elkom 3\")\n",
        "a = [1,2,4,3]\n",
        "\n",
        "print(a)\n",
        "\n",
        "hasil = 1\n",
        "\n",
        "for result in a:\n",
        "    hasil *= result\n",
        "\n",
        "\n",
        "print(hasil)"
      ],
      "metadata": {
        "colab": {
          "base_uri": "https://localhost:8080/"
        },
        "id": "hCpEX_y0t8V8",
        "outputId": "9d2b9423-cb39-438b-ab5c-f89ff6a2484f"
      },
      "execution_count": 3,
      "outputs": [
        {
          "output_type": "stream",
          "name": "stdout",
          "text": [
            "@@@  @@@@ @@@    @@    @@@ @@@@\n",
            "@  @ @  @  @@@   @@   @@@  @  @\n",
            "@@@@ @  @   @@@ @  @ @@@   @  @\n",
            "@  @ @  @    @@@    @@@    @  @\n",
            "@@@  @@@@     @@    @@     @@@@\n",
            "Elkom 3\n",
            "[1, 2, 4, 3]\n",
            "24\n"
          ]
        }
      ]
    },
    {
      "cell_type": "code",
      "source": [
        "print('@@@  @@@@ @@@    @@    @@@ @@@@')\n",
        "print('@  @ @  @  @@@   @@   @@@  @  @')\n",
        "print('@@@@ @  @   @@@ @  @ @@@   @  @')\n",
        "print('@  @ @  @    @@@    @@@    @  @')\n",
        "print('@@@  @@@@     @@    @@     @@@@')\n",
        "def hitung(liststring):\n",
        "    count = 0\n",
        "    for string in liststring:\n",
        "        if len(string) >= 2 and string[0] == string[-1]:\n",
        "            count += 1\n",
        "            print(f\"-{string}\")\n",
        "    return count\n",
        "\n",
        "\n",
        "my_list = ['z', 'xvc', 'cac', '244']\n",
        "print(my_list)\n",
        "result = hitung(my_list)\n",
        "\n",
        "print(f\"terdapat {result} yang memenuhi\")"
      ],
      "metadata": {
        "colab": {
          "base_uri": "https://localhost:8080/"
        },
        "id": "ZApPqtXTo3UQ",
        "outputId": "829dadb8-1f8f-4379-b202-02954aa56f93"
      },
      "execution_count": 13,
      "outputs": [
        {
          "output_type": "stream",
          "name": "stdout",
          "text": [
            "@@@  @@@@ @@@    @@    @@@ @@@@\n",
            "@  @ @  @  @@@   @@   @@@  @  @\n",
            "@@@@ @  @   @@@ @  @ @@@   @  @\n",
            "@  @ @  @    @@@    @@@    @  @\n",
            "@@@  @@@@     @@    @@     @@@@\n",
            "['z', 'xvc', 'cac', '244']\n",
            "-cac\n",
            "terdapat 1 yang memenuhi\n"
          ]
        }
      ]
    }
  ]
}