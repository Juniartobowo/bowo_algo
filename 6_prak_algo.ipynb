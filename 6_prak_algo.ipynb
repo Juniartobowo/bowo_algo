{
  "nbformat": 4,
  "nbformat_minor": 0,
  "metadata": {
    "colab": {
      "provenance": [],
      "authorship_tag": "ABX9TyOEMS6aQVXd+q6faj2QwLPG",
      "include_colab_link": true
    },
    "kernelspec": {
      "name": "python3",
      "display_name": "Python 3"
    },
    "language_info": {
      "name": "python"
    }
  },
  "cells": [
    {
      "cell_type": "markdown",
      "metadata": {
        "id": "view-in-github",
        "colab_type": "text"
      },
      "source": [
        "<a href=\"https://colab.research.google.com/github/Juniartobowo/bowo_algo/blob/main/6_prak_algo.ipynb\" target=\"_parent\"><img src=\"https://colab.research.google.com/assets/colab-badge.svg\" alt=\"Open In Colab\"/></a>"
      ]
    },
    {
      "cell_type": "code",
      "source": [
        "print(\"GANJIL -> perpindahan (diketahui v0 konstan)\")\n",
        "v0 = float(input(\"masukan v0 =\"))\n",
        "A = float(input(\"masukan a =\"))\n",
        "S = float(input(\"masukan s =\"))\n",
        "R = s = v0 * t + (1/2) * a * t**2\n",
        "print(f\"jarak tempuh jika kecepatan awal adalah {v0} dengan percepatan {A} dan jarak tempuh {S} adalah {R}\")"
      ],
      "metadata": {
        "colab": {
          "base_uri": "https://localhost:8080/"
        },
        "id": "kM_p0HChK34o",
        "outputId": "c06b9215-0af6-41bc-b6ae-b6ad11018534"
      },
      "execution_count": null,
      "outputs": [
        {
          "output_type": "stream",
          "name": "stdout",
          "text": [
            "GANJIL -> perpindahan (diketahui v0 konstan)\n",
            "masukan v0 =5\n",
            "masukan a =7\n",
            "masukan s =10\n",
            "jarak tempuh jika kecepatan awal adalah 5.0 dengan percepatan 7.0 dan jarak tempuh 10.0 adalah 280.0\n"
          ]
        }
      ]
    },
    {
      "cell_type": "code",
      "source": [
        "import math\n",
        "\n",
        "def hitung_luas_permukaan_kubus(sisi):\n",
        "    return 6 * sisi ** 2\n",
        "\n",
        "def hitung_luas_permukaan_balok(panjang, lebar, tinggi):\n",
        "    return 2 * (panjang * lebar + panjang * tinggi + lebar * tinggi)\n",
        "\n",
        "def hitung_luas_permukaan_tabung(jari_jari, tinggi):\n",
        "    luas_permukaan_alas = math.pi * jari_jari ** 2\n",
        "    luas_permukaan_sisi = 2 * math.pi * jari_jari * tinggi\n",
        "    return 2 * luas_permukaan_alas + luas_permukaan_sisi\n",
        "\n",
        "def hitung_luas_permukaan_kerucut(jari_jari, tinggi):\n",
        "    luas_permukaan_alas = math.pi * jari_jari ** 2\n",
        "    garis_pelukis = math.sqrt(jari_jari ** 2 + tinggi ** 2)\n",
        "    luas_permukaan_sisi = math.pi * jari_jari * garis_pelukis\n",
        "    return luas_permukaan_alas + luas_permukaan_sisi\n",
        "\n",
        "def hitung_luas_permukaan_bola(jari_jari):\n",
        "    return 4 * math.pi * jari_jari ** 2\n",
        "\n",
        "def main():\n",
        "    print(\"KALKULATOR MENCARI LUAS\")\n",
        "    print(\"1. Kubus\")\n",
        "    print(\"2. Balok\")\n",
        "    print(\"3. Tabung\")\n",
        "    print(\"4. Kerucut\")\n",
        "    print(\"5. Bola\")\n",
        "\n",
        "    pilihan = int(input(\"mau yang mana : \"))\n",
        "\n",
        "    if pilihan == 1:\n",
        "        sisi = float(input(\"Masukkan sisi : \"))\n",
        "        print(f\"sisi = {sisi}\")\n",
        "        luas_permukaan = hitung_luas_permukaan_kubus(sisi)\n",
        "    elif pilihan == 2:\n",
        "        panjang = float(input(\"Masukkan panjang : \"))\n",
        "        lebar = float(input(\"Masukkan lebar : \"))\n",
        "        tinggi = float(input(\"Masukkan tinggi : \"))\n",
        "        print(f\"panjang = {panjang}\")\n",
        "        print(f\"lebar = {lebar}\")\n",
        "        print(f\"tinggi = {tinggi}\")\n",
        "        luas_permukaan = hitung_luas_permukaan_balok(panjang, lebar, tinggi)\n",
        "    elif pilihan == 3:\n",
        "        jari_jari = float(input(\"Masukkan jari-jari : \"))\n",
        "        tinggi = float(input(\"Masukkan tinggi : \"))\n",
        "        print(f\"jari-jari = {jari_jari}\")\n",
        "        print(f\"tinggi = {tinggi}\")\n",
        "        luas_permukaan = hitung_luas_permukaan_tabung(jari_jari, tinggi)\n",
        "    elif pilihan == 4:\n",
        "        jari_jari = float(input(\"Masukkan jari-jari : \"))\n",
        "        tinggi = float(input(\"Masukkan tinggi : \"))\n",
        "        print(f\"jari-jari = {jari_jari}\")\n",
        "        print(f\"tinggi = {tinggi}\")\n",
        "        luas_permukaan = hitung_luas_permukaan_kerucut(jari_jari, tinggi)\n",
        "    elif pilihan == 5:\n",
        "        jari_jari = float(input(\"Masukkan jari-jari : \"))\n",
        "        print(f\"jari-jari = {jari_jari}\")\n",
        "        luas_permukaan = hitung_luas_permukaan_bola(jari_jari)\n",
        "    else:\n",
        "        print(\"Pilihan tidak valid.\")\n",
        "        return\n",
        "\n",
        "    print(f\"Luas = {luas_permukaan}\")\n",
        "\n",
        "if __name__ == \"__main__\":\n",
        "    main()\n"
      ],
      "metadata": {
        "colab": {
          "base_uri": "https://localhost:8080/"
        },
        "id": "A58zsPphBUzm",
        "outputId": "dd851b66-7165-49a1-b78a-7b2c257f4abb"
      },
      "execution_count": 16,
      "outputs": [
        {
          "output_type": "stream",
          "name": "stdout",
          "text": [
            "KALKULATOR MENCARI LUAS\n",
            "1. Kubus\n",
            "2. Balok\n",
            "3. Tabung\n",
            "4. Kerucut\n",
            "5. Bola\n",
            "mau yang mana : 5\n",
            "Masukkan jari-jari : 7\n",
            "jari-jari = 7.0\n",
            "Luas = 615.7521601035994\n"
          ]
        }
      ]
    }
  ]
}