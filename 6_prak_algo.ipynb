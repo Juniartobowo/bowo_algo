{
  "nbformat": 4,
  "nbformat_minor": 0,
  "metadata": {
    "colab": {
      "provenance": [],
      "authorship_tag": "ABX9TyNL1ldyrWvf8fbJna6pqRPO",
      "include_colab_link": true
    },
    "kernelspec": {
      "name": "python3",
      "display_name": "Python 3"
    },
    "language_info": {
      "name": "python"
    }
  },
  "cells": [
    {
      "cell_type": "markdown",
      "metadata": {
        "id": "view-in-github",
        "colab_type": "text"
      },
      "source": [
        "<a href=\"https://colab.research.google.com/github/Juniartobowo/bowo_algo/blob/main/6_prak_algo.ipynb\" target=\"_parent\"><img src=\"https://colab.research.google.com/assets/colab-badge.svg\" alt=\"Open In Colab\"/></a>"
      ]
    },
    {
      "cell_type": "code",
      "source": [
        "print(\"GANJIL -> perpindahan (diketahui v0 konstan)\")\n",
        "v0 = float(input(\"masukan v0 =\"))\n",
        "A = float(input(\"masukan a =\"))\n",
        "S = float(input(\"masukan s =\"))\n",
        "R = s = v0 * t + (1/2) * a * t**2\n",
        "print(f\"jarak tempuh jika kecepatan awal adalah {v0} dengan percepatan {A} dan jarak tempuh {S} adalah {R}\")"
      ],
      "metadata": {
        "colab": {
          "base_uri": "https://localhost:8080/"
        },
        "id": "kM_p0HChK34o",
        "outputId": "c06b9215-0af6-41bc-b6ae-b6ad11018534"
      },
      "execution_count": 8,
      "outputs": [
        {
          "output_type": "stream",
          "name": "stdout",
          "text": [
            "GANJIL -> perpindahan (diketahui v0 konstan)\n",
            "masukan v0 =5\n",
            "masukan a =7\n",
            "masukan s =10\n",
            "jarak tempuh jika kecepatan awal adalah 5.0 dengan percepatan 7.0 dan jarak tempuh 10.0 adalah 280.0\n"
          ]
        }
      ]
    }
  ]
}