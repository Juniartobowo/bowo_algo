{
  "nbformat": 4,
  "nbformat_minor": 0,
  "metadata": {
    "colab": {
      "provenance": [],
      "authorship_tag": "ABX9TyODViKqcQjyoWpqD8oQvgC+",
      "include_colab_link": true
    },
    "kernelspec": {
      "name": "python3",
      "display_name": "Python 3"
    },
    "language_info": {
      "name": "python"
    }
  },
  "cells": [
    {
      "cell_type": "markdown",
      "metadata": {
        "id": "view-in-github",
        "colab_type": "text"
      },
      "source": [
        "<a href=\"https://colab.research.google.com/github/Juniartobowo/bowo_algo/blob/main/13_prak_algo.ipynb\" target=\"_parent\"><img src=\"https://colab.research.google.com/assets/colab-badge.svg\" alt=\"Open In Colab\"/></a>"
      ]
    },
    {
      "cell_type": "code",
      "execution_count": 1,
      "metadata": {
        "colab": {
          "base_uri": "https://localhost:8080/"
        },
        "id": "COh3wcHNzaPW",
        "outputId": "f92a28ed-29b3-4367-bc60-3ac271d7537b"
      },
      "outputs": [
        {
          "output_type": "stream",
          "name": "stdout",
          "text": [
            "Nilai : [85, 90, 78, 92, 88]\n",
            "Rata Ratanya : 86.6\n",
            "Siswa Di Atas Rata Rata : [90, 92, 88]\n"
          ]
        }
      ],
      "source": [
        "nilai = [85, 90, 78, 92, 88]\n",
        "\n",
        "rata_rata = sum(nilai) / 5\n",
        "\n",
        "print(f\"Nilai : {nilai}\")\n",
        "\n",
        "print(f\"Rata Ratanya : {rata_rata}\")\n",
        "\n",
        "nilaisiswa = [siswa for siswa in nilai if siswa > rata_rata]\n",
        "print(f\"Siswa Di Atas Rata Rata : {nilaisiswa}\")"
      ]
    },
    {
      "cell_type": "code",
      "source": [
        "def konversi(rupiah, dollar):\n",
        "    hasil = rupiah / dollar\n",
        "    return hasil\n",
        "\n",
        "\n",
        "nilairupiah = int(input(\"Masukan Jumlah Uang Dalam Rupiah : \"))\n",
        "nilaiusd = int(input(\"Masukan Kurs Dollar Saat ini : \"))\n",
        "\n",
        "result = konversi(nilairupiah, nilaiusd)\n",
        "\n",
        "print(f\"Hasilnya : ${result:.2f}\")"
      ],
      "metadata": {
        "colab": {
          "base_uri": "https://localhost:8080/"
        },
        "id": "QCpuzM9S0A6V",
        "outputId": "a81b4b83-8244-49b2-dc71-b8f32811f11b"
      },
      "execution_count": 2,
      "outputs": [
        {
          "output_type": "stream",
          "name": "stdout",
          "text": [
            "Masukan Jumlah Uang Dalam Rupiah : 10000\n",
            "Masukan Kurs Dollar Saat ini : 15600\n",
            "Hasilnya : $0.64\n"
          ]
        }
      ]
    },
    {
      "cell_type": "code",
      "source": [
        "proyek_list = [\n",
        "    {\"nama\": \"Proyek A\", \"status\": \"Selesai\", \"estimasi_waktu\": 10},\n",
        "    {\"nama\": \"Proyek B\", \"status\": \"Dalam Pengerjaan\", \"estimasi_waktu\": 20},\n",
        "    {\"nama\": \"Proyek C\", \"status\": \"Dalam Pengerjaan\", \"estimasi_waktu\": 15},\n",
        "    {\"nama\": \"Proyek D\", \"status\": \"Selesai\", \"estimasi_waktu\": 8},\n",
        "]\n",
        "\n",
        "\n",
        "proyek_dalam_pengerjaan = [proyek for proyek in proyek_list if proyek[\"status\"] == \"Dalam Pengerjaan\"]\n",
        "\n",
        "def bubble_sort_proyek(proyek_list):\n",
        "    n = len(proyek_list)\n",
        "    for i in range(n - 1):\n",
        "        for j in range(0, n - i - 1):\n",
        "            if proyek_list[j][\"estimasi_waktu\"] > proyek_list[j + 1][\"estimasi_waktu\"]:\n",
        "                proyek_list[j], proyek_list[j + 1] = proyek_list[j + 1], proyek_list[j]\n",
        "\n",
        "print(\"Proyek yang masih dalam pengerjaan:\")\n",
        "for proyek in proyek_dalam_pengerjaan:\n",
        "    print(f\"Nama: {proyek['nama']}, Estimasi Waktu: {proyek['estimasi_waktu']} hari, Status: {proyek['status']}\")\n",
        "\n",
        "bubble_sort_proyek(proyek_dalam_pengerjaan)\n",
        "\n",
        "print(\"\\nProyek dalam pengerjaan yang diurutkan berdasarkan estimasi waktu:\")\n",
        "for proyek in proyek_dalam_pengerjaan:\n",
        "    print(f\"Nama: {proyek['nama']}, Estimasi Waktu: {proyek['estimasi_waktu']} hari, Status: {proyek['status']}\")"
      ],
      "metadata": {
        "colab": {
          "base_uri": "https://localhost:8080/"
        },
        "id": "HVxKOVw60PLp",
        "outputId": "008a6b16-13a9-4579-eb62-281c66a5e73d"
      },
      "execution_count": 3,
      "outputs": [
        {
          "output_type": "stream",
          "name": "stdout",
          "text": [
            "Proyek yang masih dalam pengerjaan:\n",
            "Nama: Proyek B, Estimasi Waktu: 20 hari, Status: Dalam Pengerjaan\n",
            "Nama: Proyek C, Estimasi Waktu: 15 hari, Status: Dalam Pengerjaan\n",
            "\n",
            "Proyek dalam pengerjaan yang diurutkan berdasarkan estimasi waktu:\n",
            "Nama: Proyek C, Estimasi Waktu: 15 hari, Status: Dalam Pengerjaan\n",
            "Nama: Proyek B, Estimasi Waktu: 20 hari, Status: Dalam Pengerjaan\n"
          ]
        }
      ]
    }
  ]
}