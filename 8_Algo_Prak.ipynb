{
  "nbformat": 4,
  "nbformat_minor": 0,
  "metadata": {
    "colab": {
      "provenance": [],
      "authorship_tag": "ABX9TyOorL5HG5JGzbxr/BXDdc3F",
      "include_colab_link": true
    },
    "kernelspec": {
      "name": "python3",
      "display_name": "Python 3"
    },
    "language_info": {
      "name": "python"
    }
  },
  "cells": [
    {
      "cell_type": "markdown",
      "metadata": {
        "id": "view-in-github",
        "colab_type": "text"
      },
      "source": [
        "<a href=\"https://colab.research.google.com/github/Juniartobowo/bowo_algo/blob/main/8_Algo_Prak.ipynb\" target=\"_parent\"><img src=\"https://colab.research.google.com/assets/colab-badge.svg\" alt=\"Open In Colab\"/></a>"
      ]
    },
    {
      "cell_type": "code",
      "execution_count": 4,
      "metadata": {
        "colab": {
          "base_uri": "https://localhost:8080/"
        },
        "id": "Hp_57lVLatNo",
        "outputId": "c245e910-e09b-495d-97c9-60e02b16996a"
      },
      "outputs": [
        {
          "output_type": "stream",
          "name": "stdout",
          "text": [
            "@@@  @@@@ @@@    @@    @@@ @@@@\n",
            "@  @ @  @  @@@   @@   @@@  @  @\n",
            "@@@@ @  @   @@@ @  @ @@@   @  @\n",
            "@  @ @  @    @@@    @@@    @  @\n",
            "@@@  @@@@     @@    @@     @@@@\n",
            "Masukkan sebuah kata: juniarto\n",
            "Karakter indeks ganjil: jnat\n"
          ]
        }
      ],
      "source": [
        "print('@@@  @@@@ @@@    @@    @@@ @@@@')\n",
        "print('@  @ @  @  @@@   @@   @@@  @  @')\n",
        "print('@@@@ @  @   @@@ @  @ @@@   @  @')\n",
        "print('@  @ @  @    @@@    @@@    @  @')\n",
        "print('@@@  @@@@     @@    @@     @@@@')\n",
        "def karakter_ganjil(input_string):\n",
        "    result = \"\"\n",
        "    for i in range(len(input_string)):\n",
        "        if i % 2 == 0:\n",
        "            result += input_string[i]\n",
        "    return result\n",
        "\n",
        "user_input = input(\"Masukkan sebuah kata: \")\n",
        "\n",
        "output = karakter_ganjil(user_input)\n",
        "\n",
        "print(\"Karakter indeks ganjil:\", output)\n"
      ]
    }
  ]
}