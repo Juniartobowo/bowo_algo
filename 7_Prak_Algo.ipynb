{
  "nbformat": 4,
  "nbformat_minor": 0,
  "metadata": {
    "colab": {
      "provenance": [],
      "authorship_tag": "ABX9TyN6z5DAmVy4DCHt7XCU3ang",
      "include_colab_link": true
    },
    "kernelspec": {
      "name": "python3",
      "display_name": "Python 3"
    },
    "language_info": {
      "name": "python"
    }
  },
  "cells": [
    {
      "cell_type": "markdown",
      "metadata": {
        "id": "view-in-github",
        "colab_type": "text"
      },
      "source": [
        "<a href=\"https://colab.research.google.com/github/Juniartobowo/bowo_algo/blob/main/7_Prak_Algo.ipynb\" target=\"_parent\"><img src=\"https://colab.research.google.com/assets/colab-badge.svg\" alt=\"Open In Colab\"/></a>"
      ]
    },
    {
      "cell_type": "code",
      "execution_count": 3,
      "metadata": {
        "colab": {
          "base_uri": "https://localhost:8080/"
        },
        "id": "hmXDMRoj-A3I",
        "outputId": "f21883c2-8ebc-42f2-f665-cccb09f65d0d"
      },
      "outputs": [
        {
          "output_type": "stream",
          "name": "stdout",
          "text": [
            "@@@  @@@@ @@@    @@    @@@ @@@@\n",
            "@  @ @  @  @@@   @@   @@@  @  @\n",
            "@@@@ @  @   @@@ @  @ @@@   @  @\n",
            "@  @ @  @    @@@    @@@    @  @\n",
            "@@@  @@@@     @@    @@     @@@@\n",
            "nilai: 5\n",
            "Faktorial dari 5 adalah 120\n"
          ]
        }
      ],
      "source": [
        "print('@@@  @@@@ @@@    @@    @@@ @@@@')\n",
        "print('@  @ @  @  @@@   @@   @@@  @  @')\n",
        "print('@@@@ @  @   @@@ @  @ @@@   @  @')\n",
        "print('@  @ @  @    @@@    @@@    @  @')\n",
        "print('@@@  @@@@     @@    @@     @@@@')\n",
        "def hitung_faktorial(n):\n",
        "    if n < 0:\n",
        "        return \"Faktorial tidak dapat dihitung untuk bilangan negatif.\"\n",
        "    elif n == 0 or n == 1:\n",
        "        return 1\n",
        "    else:\n",
        "        hasil = 1\n",
        "        for i in range(2, n + 1):\n",
        "            hasil *= i\n",
        "        return hasil\n",
        "\n",
        "# Input dari pengguna\n",
        "bilangan = int(input(\"nilai: \"))\n",
        "\n",
        "# Memanggil fungsi hitung_faktorial dan mencetak hasilnya\n",
        "print(f\"Faktorial dari {bilangan} adalah {hitung_faktorial(bilangan)}\")"
      ]
    },
    {
      "cell_type": "code",
      "source": [
        "print('@@@  @@@@ @@@    @@    @@@ @@@@')\n",
        "print('@  @ @  @  @@@   @@   @@@  @  @')\n",
        "print('@@@@ @  @   @@@ @  @ @@@   @  @')\n",
        "print('@  @ @  @    @@@    @@@    @  @')\n",
        "print('@@@  @@@@     @@    @@     @@@@')\n",
        "def hitung_vokal_konsonan(kalimat):\n",
        "    jumlah_vokal = 0\n",
        "    jumlah_konsonan = 0\n",
        "\n",
        "    huruf_vokal = \"aeiou\"\n",
        "\n",
        "    kalimat = kalimat.lower()\n",
        "\n",
        "    for huruf in kalimat:\n",
        "        if huruf.isalpha():\n",
        "            if huruf in huruf_vokal:\n",
        "                jumlah_vokal += 1\n",
        "            else:\n",
        "                jumlah_konsonan += 1\n",
        "\n",
        "    return jumlah_vokal, jumlah_konsonan\n",
        "\n",
        "kalimat_input = input(\"Masukkan sesuatu: \")\n",
        "\n",
        "vokal, konsonan = hitung_vokal_konsonan(kalimat_input)\n",
        "\n",
        "print(f\"Jumlah huruf vokal: {vokal}\")\n",
        "print(f\"Jumlah huruf konsonan: {konsonan}\")\n"
      ],
      "metadata": {
        "colab": {
          "base_uri": "https://localhost:8080/"
        },
        "id": "JU84t0d4HdIH",
        "outputId": "14865d42-68aa-4ff0-e584-5a953d984120"
      },
      "execution_count": 13,
      "outputs": [
        {
          "output_type": "stream",
          "name": "stdout",
          "text": [
            "@@@  @@@@ @@@    @@    @@@ @@@@\n",
            "@  @ @  @  @@@   @@   @@@  @  @\n",
            "@@@@ @  @   @@@ @  @ @@@   @  @\n",
            "@  @ @  @    @@@    @@@    @  @\n",
            "@@@  @@@@     @@    @@     @@@@\n",
            "Masukkan sesuatu: helloworld\n",
            "Jumlah huruf vokal: 3\n",
            "Jumlah huruf konsonan: 7\n"
          ]
        }
      ]
    },
    {
      "cell_type": "code",
      "source": [
        "print('@@@  @@@@ @@@    @@    @@@ @@@@')\n",
        "print('@  @ @  @  @@@   @@   @@@  @  @')\n",
        "print('@@@@ @  @   @@@ @  @ @@@   @  @')\n",
        "print('@  @ @  @    @@@    @@@    @  @')\n",
        "print('@@@  @@@@     @@    @@     @@@@')\n",
        "def kubik(angka):\n",
        "    return angka ** 3\n",
        "\n",
        "def cek_habis_dibagi_tiga(angka):\n",
        "    if angka % 3 == 0:\n",
        "        return kubik(angka)\n",
        "    else:\n",
        "        return \"False\"\n",
        "\n",
        "nilai = int(input(\"Masukkan nilai: \"))\n",
        "\n",
        "hasil = cek_habis_dibagi_tiga(nilai)\n",
        "print(\"hasilnya adalah\",hasil)"
      ],
      "metadata": {
        "colab": {
          "base_uri": "https://localhost:8080/"
        },
        "id": "TWT11gmvF1JV",
        "outputId": "abf3d1bf-cb3d-4c94-8eaa-7d3c42216785"
      },
      "execution_count": 10,
      "outputs": [
        {
          "output_type": "stream",
          "name": "stdout",
          "text": [
            "@@@  @@@@ @@@    @@    @@@ @@@@\n",
            "@  @ @  @  @@@   @@   @@@  @  @\n",
            "@@@@ @  @   @@@ @  @ @@@   @  @\n",
            "@  @ @  @    @@@    @@@    @  @\n",
            "@@@  @@@@     @@    @@     @@@@\n",
            "Masukkan nilai: 7\n",
            "hasilnya adalah False\n"
          ]
        }
      ]
    }
  ]
}