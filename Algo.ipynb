{
  "nbformat": 4,
  "nbformat_minor": 0,
  "metadata": {
    "colab": {
      "provenance": [],
      "authorship_tag": "ABX9TyM05xSrmgXutqhG5YVqwxvQ",
      "include_colab_link": true
    },
    "kernelspec": {
      "name": "python3",
      "display_name": "Python 3"
    },
    "language_info": {
      "name": "python"
    }
  },
  "cells": [
    {
      "cell_type": "markdown",
      "metadata": {
        "id": "view-in-github",
        "colab_type": "text"
      },
      "source": [
        "<a href=\"https://colab.research.google.com/github/Juniartobowo/bowo_algo/blob/main/Algo.ipynb\" target=\"_parent\"><img src=\"https://colab.research.google.com/assets/colab-badge.svg\" alt=\"Open In Colab\"/></a>"
      ]
    },
    {
      "cell_type": "code",
      "execution_count": 2,
      "metadata": {
        "colab": {
          "base_uri": "https://localhost:8080/"
        },
        "id": "Q-xEM6NqFAFV",
        "outputId": "69caa023-a022-4a13-db08-4c3c88b58cd5"
      },
      "outputs": [
        {
          "output_type": "stream",
          "name": "stdout",
          "text": [
            "@@@  @@@@ @@@    @@    @@@ @@@@\n",
            "@  @ @  @  @@@   @@   @@@  @  @\n",
            "@@@@ @  @   @@@ @  @ @@@   @  @\n",
            "@  @ @  @    @@@    @@@    @  @\n",
            "@@@  @@@@     @@    @@     @@@@\n",
            "Kalkulator Pythagoras\n",
            "Pilih operasi:\n",
            "1. Hitung sisi a\n",
            "2. Hitung sisi b\n",
            "3. Hitung sisi c\n",
            "Masukkan nomor operasi yang diinginkan (1/2/3): 1\n",
            "Masukkan panjang sisi b: 5\n",
            "Masukkan panjang sisi c: 4\n",
            "Nilai c tidak boleh lebih kecil dari nilai b.\n",
            "Masukkan ulang panjang sisi c: 6\n",
            "Panjang sisi a adalah: 1.4142135623730951\n"
          ]
        }
      ],
      "source": [
        "print('@@@  @@@@ @@@    @@    @@@ @@@@')\n",
        "print('@  @ @  @  @@@   @@   @@@  @  @')\n",
        "print('@@@@ @  @   @@@ @  @ @@@   @  @')\n",
        "print('@  @ @  @    @@@    @@@    @  @')\n",
        "print('@@@  @@@@     @@    @@     @@@@')\n",
        "\n",
        "import math\n",
        "\n",
        "def hitung_sisi_a(sisi_b, sisi_c):\n",
        "    return math.sqrt(sisi_c*2 - sisi_b*2)\n",
        "\n",
        "def hitung_sisi_b(sisi_a, sisi_c):\n",
        "    return math.sqrt(sisi_c*2 - sisi_a*2)\n",
        "\n",
        "def hitung_sisi_c(sisi_a, sisi_b):\n",
        "    return math.sqrt(sisi_a*2 + sisi_b*2)\n",
        "\n",
        "print(\"Kalkulator Pythagoras\")\n",
        "print(\"Pilih operasi:\")\n",
        "print(\"1. Hitung sisi a\")\n",
        "print(\"2. Hitung sisi b\")\n",
        "print(\"3. Hitung sisi c\")\n",
        "pilihan = int(input(\"Masukkan nomor operasi yang diinginkan (1/2/3): \"))\n",
        "\n",
        "if pilihan == 1:\n",
        "    sisi_b = float(input(\"Masukkan panjang sisi b: \"))\n",
        "    sisi_c = float(input(\"Masukkan panjang sisi c: \"))\n",
        "    while sisi_c < sisi_b:\n",
        "        print(\"Nilai c tidak boleh lebih kecil dari nilai b.\")\n",
        "        sisi_c = float(input(\"Masukkan ulang panjang sisi c: \"))\n",
        "    sisi_a = hitung_sisi_a(sisi_b, sisi_c)\n",
        "    print(f\"Panjang sisi a adalah: {sisi_a}\")\n",
        "elif pilihan == 2:\n",
        "    sisi_a = float(input(\"Masukkan panjang sisi a: \"))\n",
        "    sisi_c = float(input(\"Masukkan panjang sisi c: \"))\n",
        "    while sisi_c < sisi_a:\n",
        "        print(\"Nilai c tidak boleh lebih kecil dari nilai a.\")\n",
        "        sisi_c = float(input(\"Masukkan ulang panjang sisi c: \"))\n",
        "    sisi_b = hitung_sisi_b(sisi_a, sisi_c)\n",
        "    print(f\"Panjang sisi b adalah: {sisi_b}\")\n",
        "elif pilihan == 3:\n",
        "    sisi_a = float(input(\"Masukkan panjang sisi a: \"))\n",
        "    sisi_b = float(input(\"Masukkan panjang sisi b: \"))\n",
        "    sisi_c = hitung_sisi_c(sisi_a, sisi_b)\n",
        "    print(f\"Panjang sisi c adalah: {sisi_c}\")\n",
        "else:\n",
        "    print(\"Pilihan operasi tidak valid. Harap masukkan 1, 2, atau 3.\")"
      ]
    },
    {
      "cell_type": "code",
      "source": [
        "print('@@@  @@@@ @@@    @@    @@@ @@@@')\n",
        "print('@  @ @  @  @@@   @@   @@@  @  @')\n",
        "print('@@@@ @  @   @@@ @  @ @@@   @  @')\n",
        "print('@  @ @  @    @@@    @@@    @  @')\n",
        "print('@@@  @@@@     @@    @@     @@@@')\n",
        "\n",
        "# Minta pengguna untuk memasukkan tiga angka\n",
        "angka1 = float(input(\"Masukkan angka pertama: \"))\n",
        "angka2 = float(input(\"Masukkan angka kedua: \"))\n",
        "angka3 = float(input(\"Masukkan angka ketiga: \"))\n",
        "\n",
        "# Temukan angka terbesar menggunakan pernyataan if\n",
        "if angka1 >= angka2 and angka1 >= angka3:\n",
        "    angka_terbesar = angka1\n",
        "elif angka2 >= angka1 and angka2 >= angka3:\n",
        "    angka_terbesar = angka2\n",
        "else:\n",
        "    angka_terbesar = angka3\n",
        "\n",
        "# Tampilkan angka terbesar\n",
        "print(f\"Angka terbesar adalah: {angka_terbesar}\")\n"
      ],
      "metadata": {
        "colab": {
          "base_uri": "https://localhost:8080/"
        },
        "id": "jwOxHZkOFc4F",
        "outputId": "ab506ba2-bf1d-4743-dcf3-f82abcc67d46"
      },
      "execution_count": null,
      "outputs": [
        {
          "output_type": "stream",
          "name": "stdout",
          "text": [
            "@@@  @@@@ @@@    @@    @@@ @@@@\n",
            "@  @ @  @  @@@   @@   @@@  @  @\n",
            "@@@@ @  @   @@@ @  @ @@@   @  @\n",
            "@  @ @  @    @@@    @@@    @  @\n",
            "@@@  @@@@     @@    @@     @@@@\n",
            "Masukkan angka pertama: 3554\n",
            "Masukkan angka kedua: 2255\n",
            "Masukkan angka ketiga: 7\n",
            "Angka terbesar adalah: 3554.0\n"
          ]
        }
      ]
    }
  ]
}