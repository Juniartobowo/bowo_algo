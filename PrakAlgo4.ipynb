{
  "nbformat": 4,
  "nbformat_minor": 0,
  "metadata": {
    "colab": {
      "provenance": [],
      "authorship_tag": "ABX9TyOCUlRKFf82WuEPsjNjlRNq",
      "include_colab_link": true
    },
    "kernelspec": {
      "name": "python3",
      "display_name": "Python 3"
    },
    "language_info": {
      "name": "python"
    }
  },
  "cells": [
    {
      "cell_type": "markdown",
      "metadata": {
        "id": "view-in-github",
        "colab_type": "text"
      },
      "source": [
        "<a href=\"https://colab.research.google.com/github/Juniartobowo/bowo_algo/blob/main/PrakAlgo4.ipynb\" target=\"_parent\"><img src=\"https://colab.research.google.com/assets/colab-badge.svg\" alt=\"Open In Colab\"/></a>"
      ]
    },
    {
      "cell_type": "code",
      "execution_count": 6,
      "metadata": {
        "colab": {
          "base_uri": "https://localhost:8080/"
        },
        "id": "5OQfGGBlz3Hr",
        "outputId": "0f40ec0e-e2c6-40ef-e1b7-07377d8863a5"
      },
      "outputs": [
        {
          "output_type": "stream",
          "name": "stdout",
          "text": [
            "@@@  @@@@ @@@    @@    @@@ @@@@\n",
            "@  @ @  @  @@@   @@   @@@  @  @\n",
            "@@@@ @  @   @@@ @  @ @@@   @  @\n",
            "@  @ @  @    @@@    @@@    @  @\n",
            "@@@  @@@@     @@    @@     @@@@\n",
            "Pilih operasi:\n",
            "1. Decimal ke Binary\n",
            "2. Binary ke Decimal\n",
            "3. Exit\n",
            "Masukkan pilihan (1/2/3): 1\n",
            "Masukkan bilangan desimal: 24\n",
            "Hasil konversi: 11000\n",
            "Pilih operasi:\n",
            "1. Decimal ke Binary\n",
            "2. Binary ke Decimal\n",
            "3. Exit\n",
            "Masukkan pilihan (1/2/3): 2\n",
            "Masukkan bilangan biner: 11000\n",
            "Hasil konversi: 24\n",
            "Pilih operasi:\n",
            "1. Decimal ke Binary\n",
            "2. Binary ke Decimal\n",
            "3. Exit\n",
            "Masukkan pilihan (1/2/3): 3\n",
            "Terima kasih!!!\n"
          ]
        }
      ],
      "source": [
        "print('@@@  @@@@ @@@    @@    @@@ @@@@')\n",
        "print('@  @ @  @  @@@   @@   @@@  @  @')\n",
        "print('@@@@ @  @   @@@ @  @ @@@   @  @')\n",
        "print('@  @ @  @    @@@    @@@    @  @')\n",
        "print('@@@  @@@@     @@    @@     @@@@')\n",
        "def decimal_to_binary(decimal):\n",
        "    binary = bin(decimal)[2:]\n",
        "    return binary\n",
        "\n",
        "def binary_to_decimal(binary):\n",
        "    decimal = int(binary, 2)\n",
        "    return decimal\n",
        "\n",
        "while True:\n",
        "    print(\"Pilih operasi:\")\n",
        "    print(\"1. Decimal ke Binary\")\n",
        "    print(\"2. Binary ke Decimal\")\n",
        "    print(\"3. Exit\")\n",
        "\n",
        "    choice = input(\"Masukkan pilihan (1/2/3): \")\n",
        "\n",
        "    if choice == '1':\n",
        "        decimal_input = int(input(\"Masukkan bilangan desimal: \"))\n",
        "        binary_output = decimal_to_binary(decimal_input)\n",
        "        print(f\"Hasil konversi: {binary_output}\")\n",
        "    elif choice == '2':\n",
        "        binary_input = input(\"Masukkan bilangan biner: \")\n",
        "        decimal_output = binary_to_decimal(binary_input)\n",
        "        print(f\"Hasil konversi: {decimal_output}\")\n",
        "    elif choice == '3':\n",
        "        print(\"Terima kasih!!!\")\n",
        "        break\n",
        "    else:\n",
        "        print(\"Pilihan tidak valid. Silakan masukkan 1, 2, atau 3.\")\n"
      ]
    },
    {
      "cell_type": "code",
      "source": [
        "def cek_angka_genap(lst):\n",
        "    for angka in lst:\n",
        "        if angka % 2 == 0:\n",
        "            return True\n",
        "    return False\n",
        "\n",
        "input_str = input(\"Masukkan list angka (integer)-> \")\n",
        "angka_list = [int(x) for x in input_str.split()]\n",
        "\n",
        "hasil = cek_angka_genap(angka_list)\n",
        "\n",
        "if hasil:\n",
        "    print(\"List memiliki angka genap.\")\n",
        "else:\n",
        "    print(\"List tidak memiliki angka genap.\")"
      ],
      "metadata": {
        "colab": {
          "base_uri": "https://localhost:8080/"
        },
        "id": "DGSl6G7M2Chi",
        "outputId": "6bc9805a-8e7f-47aa-8841-bb2463312caa"
      },
      "execution_count": 3,
      "outputs": [
        {
          "output_type": "stream",
          "name": "stdout",
          "text": [
            "Masukkan list angka (integer)-> 1 3 5 7\n",
            "List tidak memiliki angka genap.\n"
          ]
        }
      ]
    }
  ]
}