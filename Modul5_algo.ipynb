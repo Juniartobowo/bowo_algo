{
  "nbformat": 4,
  "nbformat_minor": 0,
  "metadata": {
    "colab": {
      "provenance": [],
      "authorship_tag": "ABX9TyPT8NL/4ScNOfttBXuvclg3",
      "include_colab_link": true
    },
    "kernelspec": {
      "name": "python3",
      "display_name": "Python 3"
    },
    "language_info": {
      "name": "python"
    }
  },
  "cells": [
    {
      "cell_type": "markdown",
      "metadata": {
        "id": "view-in-github",
        "colab_type": "text"
      },
      "source": [
        "<a href=\"https://colab.research.google.com/github/Juniartobowo/bowo_algo/blob/main/Modul5_algo.ipynb\" target=\"_parent\"><img src=\"https://colab.research.google.com/assets/colab-badge.svg\" alt=\"Open In Colab\"/></a>"
      ]
    },
    {
      "cell_type": "code",
      "source": [
        "print('@@@  @@@@ @@@    @@    @@@ @@@@')\n",
        "print('@  @ @  @  @@@   @@   @@@  @  @')\n",
        "print('@@@@ @  @   @@@ @  @ @@@   @  @')\n",
        "print('@  @ @  @    @@@    @@@    @  @')\n",
        "print('@@@  @@@@     @@    @@     @@@@')\n",
        "def fibonacci(n, first, second):\n",
        "    fib_series = [first, second]\n",
        "    print(f\"Berikut urutannya:\")\n",
        "    print(first)\n",
        "    print(f\"Berikut urutannya:\")\n",
        "    print(second)\n",
        "    while len(fib_series) < n:\n",
        "        next_fib = fib_series[-1] + fib_series[-2]\n",
        "        fib_series.append(next_fib)\n",
        "        print(\"berikut urutannya\")\n",
        "        print(next_fib)\n",
        "\n",
        "jumlah_bilangan = int(input(\"Masukkan jumlah bilangan: \"))\n",
        "bilangan_pertama = int(input(\"Masukkan bilangan pertama: \"))\n",
        "bilangan_kedua = int(input(\"Masukkan bilangan kedua: \"))\n",
        "\n",
        "fibonacci(jumlah_bilangan, bilangan_pertama,bilangan_kedua)"
      ],
      "metadata": {
        "colab": {
          "base_uri": "https://localhost:8080/"
        },
        "id": "IcFFPf6nzYvc",
        "outputId": "28fd734a-ef8a-4332-8eb2-dcfa5502bae9"
      },
      "execution_count": null,
      "outputs": [
        {
          "output_type": "stream",
          "name": "stdout",
          "text": [
            "@@@  @@@@ @@@    @@    @@@ @@@@\n",
            "@  @ @  @  @@@   @@   @@@  @  @\n",
            "@@@@ @  @   @@@ @  @ @@@   @  @\n",
            "@  @ @  @    @@@    @@@    @  @\n",
            "@@@  @@@@     @@    @@     @@@@\n",
            "Masukkan jumlah bilangan: 6\n",
            "Masukkan bilangan pertama: 2\n",
            "Masukkan bilangan kedua: 1\n",
            "Berikut urutannya:\n",
            "2\n",
            "Berikut urutannya:\n",
            "1\n",
            "berikut urutannya\n",
            "3\n",
            "berikut urutannya\n",
            "4\n",
            "berikut urutannya\n",
            "7\n",
            "berikut urutannya\n",
            "11\n"
          ]
        }
      ]
    },
    {
      "cell_type": "code",
      "source": [
        "print('@@@  @@@@ @@@    @@    @@@ @@@@')\n",
        "print('@  @ @  @  @@@   @@   @@@  @  @')\n",
        "print('@@@@ @  @   @@@ @  @ @@@   @  @')\n",
        "print('@  @ @  @    @@@    @@@    @  @')\n",
        "print('@@@  @@@@     @@    @@     @@@@')\n",
        "# Input nama\n",
        "while True:\n",
        "    nama = input(\"Nama : \")\n",
        "\n",
        "    if nama.isdigit():\n",
        "        print(\"Masukkan nama yang valid!\")\n",
        "        continue\n",
        "\n",
        "\n",
        "        # Input jam kerja\n",
        "    jamKerja = float(input(\"Jam masuk kerja (jam.menit)[contoh 6.30 untuk 06:30]: \"))\n",
        "\n",
        "        # Gaji perhari\n",
        "    gajiPerhari = 175000\n",
        "\n",
        "        # Mengecek apakah jam kerja valid (antara 0 hingga 24)\n",
        "    if jamKerja <= 1.00 or jamKerja >= 24.00:\n",
        "            print(\"Jam masuk kerja tidak valid!\")\n",
        "            continue\n",
        "    else:\n",
        "            # Ucapan selamat pagi, siang, sore, malam berdasarkan waktu\n",
        "            if jamKerja >= 6.00 and jamKerja <= 12.00:\n",
        "                print(f\"\\nSelamat pagi {nama}\\n\")\n",
        "            elif jamKerja >= 12.00 and jamKerja <= 15.00:\n",
        "                print(f\"\\nSelamat siang {nama}\\n\")\n",
        "            elif jamKerja >= 15.00 and jamKerja <= 18.00:\n",
        "                print(f\"\\nSelamat sore {nama}\\n\")\n",
        "            elif jamKerja >= 18.00 and jamKerja <= 24.00:\n",
        "                print(f\"\\nSelamat malam {nama}\\n\")\n",
        "            else:\n",
        "                print(\"Jam masuk kerja tidak valid!\")\n",
        "\n",
        "            # Input jam keluar kerja\n",
        "            jamKeluarKerja = float(input(\"Jam keluar kerja (jam.menit)[contoh 18.30 untuk 18:30]: \"))\n",
        "\n",
        "            # Mengecek apakah jam keluar kerja valid (antara 0 hingga 24)\n",
        "            if jamKeluarKerja < 1.00 or jamKeluarKerja > 24.00:\n",
        "                print(\"Jam keluar kerja tidak valid!\")\n",
        "            else:\n",
        "                # Ucapan selamat pagi, siang, sore, malam berdasarkan waktu\n",
        "                if jamKeluarKerja >= 6.00 and jamKeluarKerja <= 12.00:\n",
        "                    print(f\"\\nSelamat pagi\\n\")\n",
        "                elif jamKeluarKerja >= 12.00 and jamKeluarKerja <= 15.00:\n",
        "                    print(f\"\\nSelamat siang\\n\")\n",
        "                elif jamKeluarKerja >= 15.00 and jamKeluarKerja <= 18.00:\n",
        "                    print(f\"\\nSelamat sore\\n\")\n",
        "                elif jamKeluarKerja >= 18.00 and jamKeluarKerja <= 24.00:\n",
        "                    print(f\"\\nSelamat malam\\n\")\n",
        "                else:\n",
        "                    print(\"Jam keluar kerja tidak valid!\")\n",
        "\n",
        "                print(5 * \"-\", \"Rincian gaji\", 5 * \"-\")\n",
        "\n",
        "                print(f\"Nama : {nama}\")\n",
        "\n",
        "                waktuKerja = (jamKeluarKerja - jamKerja)\n",
        "\n",
        "                print(f\"Waktu Kerja = {int(waktuKerja)} jam ({jamKerja:.2f} s.d {jamKeluarKerja:.2f})\")\n",
        "\n",
        "                if waktuKerja <= 8:\n",
        "                    gaji_total = gajiPerhari\n",
        "                else:\n",
        "                    gaji_tambahan = (int(waktuKerja) - 8) * 15000\n",
        "                    gaji_total = gajiPerhari + gaji_tambahan\n",
        "\n",
        "                print(f\"Gaji perhari : {gajiPerhari}\")\n",
        "                print(f\"Lembur : {gaji_tambahan:.2f} ({int(waktuKerja - 8)} jam * Rp.15,000)\")\n",
        "                print(f\"Gaji Total: {gaji_total:.2f}\")\n",
        "                print('=========TrimaKasih=========')\n",
        "                break"
      ],
      "metadata": {
        "colab": {
          "base_uri": "https://localhost:8080/"
        },
        "id": "U8y8Pq6rkn0p",
        "outputId": "fe447e41-2ad0-4cee-b61d-1d55c3e11a9d"
      },
      "execution_count": 2,
      "outputs": [
        {
          "output_type": "stream",
          "name": "stdout",
          "text": [
            "@@@  @@@@ @@@    @@    @@@ @@@@\n",
            "@  @ @  @  @@@   @@   @@@  @  @\n",
            "@@@@ @  @   @@@ @  @ @@@   @  @\n",
            "@  @ @  @    @@@    @@@    @  @\n",
            "@@@  @@@@     @@    @@     @@@@\n",
            "Nama : bowo\n",
            "Jam masuk kerja (jam.menit)[contoh 6.30 untuk 06:30]: 6.30\n",
            "\n",
            "Selamat pagi bowo\n",
            "\n",
            "Jam keluar kerja (jam.menit)[contoh 18.30 untuk 18:30]: 18.30\n",
            "\n",
            "Selamat malam\n",
            "\n",
            "----- Rincian gaji -----\n",
            "Nama : bowo\n",
            "Waktu Kerja = 12 jam (6.30 s.d 18.30)\n",
            "Gaji perhari : 175000\n",
            "Lembur : 60000.00 (4 jam * Rp.15,000)\n",
            "Gaji Total: 235000.00\n",
            "=========TrimaKasih=========\n"
          ]
        }
      ]
    }
  ]
}