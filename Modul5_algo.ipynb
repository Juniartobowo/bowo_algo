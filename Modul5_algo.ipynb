{
  "nbformat": 4,
  "nbformat_minor": 0,
  "metadata": {
    "colab": {
      "provenance": [],
      "authorship_tag": "ABX9TyNTBALmnwZ3P46OcKjcarBf",
      "include_colab_link": true
    },
    "kernelspec": {
      "name": "python3",
      "display_name": "Python 3"
    },
    "language_info": {
      "name": "python"
    }
  },
  "cells": [
    {
      "cell_type": "markdown",
      "metadata": {
        "id": "view-in-github",
        "colab_type": "text"
      },
      "source": [
        "<a href=\"https://colab.research.google.com/github/Juniartobowo/bowo_algo/blob/main/Modul5_algo.ipynb\" target=\"_parent\"><img src=\"https://colab.research.google.com/assets/colab-badge.svg\" alt=\"Open In Colab\"/></a>"
      ]
    },
    {
      "cell_type": "code",
      "source": [
        "print('@@@  @@@@ @@@    @@    @@@ @@@@')\n",
        "print('@  @ @  @  @@@   @@   @@@  @  @')\n",
        "print('@@@@ @  @   @@@ @  @ @@@   @  @')\n",
        "print('@  @ @  @    @@@    @@@    @  @')\n",
        "print('@@@  @@@@     @@    @@     @@@@')\n",
        "def fibonacci(n, first, second):\n",
        "    fib_series = [first, second]\n",
        "    print(f\"Berikut urutannya:\")\n",
        "    print(first)\n",
        "    print(f\"Berikut urutannya:\")\n",
        "    print(second)\n",
        "    while len(fib_series) < n:\n",
        "        next_fib = fib_series[-1] + fib_series[-2]\n",
        "        fib_series.append(next_fib)\n",
        "        print(\"berikut urutannya\")\n",
        "        print(next_fib)\n",
        "\n",
        "jumlah_bilangan = int(input(\"Masukkan jumlah bilangan: \"))\n",
        "bilangan_pertama = int(input(\"Masukkan bilangan pertama: \"))\n",
        "bilangan_kedua = int(input(\"Masukkan bilangan kedua: \"))\n",
        "\n",
        "fibonacci(jumlah_bilangan, bilangan_pertama,bilangan_kedua)"
      ],
      "metadata": {
        "colab": {
          "base_uri": "https://localhost:8080/"
        },
        "id": "IcFFPf6nzYvc",
        "outputId": "28fd734a-ef8a-4332-8eb2-dcfa5502bae9"
      },
      "execution_count": null,
      "outputs": [
        {
          "output_type": "stream",
          "name": "stdout",
          "text": [
            "@@@  @@@@ @@@    @@    @@@ @@@@\n",
            "@  @ @  @  @@@   @@   @@@  @  @\n",
            "@@@@ @  @   @@@ @  @ @@@   @  @\n",
            "@  @ @  @    @@@    @@@    @  @\n",
            "@@@  @@@@     @@    @@     @@@@\n",
            "Masukkan jumlah bilangan: 6\n",
            "Masukkan bilangan pertama: 2\n",
            "Masukkan bilangan kedua: 1\n",
            "Berikut urutannya:\n",
            "2\n",
            "Berikut urutannya:\n",
            "1\n",
            "berikut urutannya\n",
            "3\n",
            "berikut urutannya\n",
            "4\n",
            "berikut urutannya\n",
            "7\n",
            "berikut urutannya\n",
            "11\n"
          ]
        }
      ]
    }
  ]
}